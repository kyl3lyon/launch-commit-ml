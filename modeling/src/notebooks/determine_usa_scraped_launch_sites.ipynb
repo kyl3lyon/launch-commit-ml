{
 "cells": [
  {
   "cell_type": "markdown",
   "metadata": {},
   "source": [
    "#### Libraries"
   ]
  },
  {
   "cell_type": "code",
   "execution_count": 1,
   "metadata": {},
   "outputs": [],
   "source": [
    "import pandas as pd\n",
    "import json\n",
    "from datetime import datetime, time\n",
    "import matplotlib.pyplot as plt\n",
    "import re"
   ]
  },
  {
   "cell_type": "markdown",
   "metadata": {},
   "source": [
    "#### Data"
   ]
  },
  {
   "cell_type": "code",
   "execution_count": 2,
   "metadata": {},
   "outputs": [],
   "source": [
    "historical_launches_df = pd.read_json(\"../data/raw/launch/historical_launches.json\")"
   ]
  },
  {
   "cell_type": "code",
   "execution_count": 3,
   "metadata": {},
   "outputs": [],
   "source": [
    "def split_column(df, original_column, new_column1, new_column2, separator='|'):\n",
    "    \"\"\"\n",
    "    Split a column into two new columns, keeping the original.\n",
    "\n",
    "    Parameters:\n",
    "    df (pandas.DataFrame): The DataFrame containing the column to be split.\n",
    "    original_column (str): The name of the column to be split.\n",
    "    new_column1 (str): The name for the first new column.\n",
    "    new_column2 (str): The name for the second new column.\n",
    "    separator (str): The separator to split on. Defaults to '|'.\n",
    "\n",
    "    Returns:\n",
    "    pandas.DataFrame: The DataFrame with new columns added.\n",
    "    \"\"\"\n",
    "    # Create a copy of the DataFrame to avoid modifying the original\n",
    "    df_copy = df.copy()\n",
    "\n",
    "    # Split the specified column and remove whitespace\n",
    "    split_data = df_copy[original_column].str.split(separator, expand=True, n=1)\n",
    "    df_copy[new_column1] = split_data[0].str.strip()\n",
    "    df_copy[new_column2] = split_data[1].str.strip()\n",
    "\n",
    "    return df_copy\n",
    "\n",
    "# Usage\n",
    "historical_launches_df = split_column(\n",
    "    df=historical_launches_df,\n",
    "    original_column='location',\n",
    "    new_column1='pad',\n",
    "    new_column2='location'\n",
    ")"
   ]
  },
  {
   "cell_type": "code",
   "execution_count": 4,
   "metadata": {},
   "outputs": [],
   "source": [
    "def parse_launch_date(date_string):\n",
    "    try:\n",
    "        date_string = date_string.replace('.', '').upper()\n",
    "        for fmt in ('%m/%d/%Y %I:%M %p', '%m/%d/%Y %I %p', '%m/%d/%Y %I%p', '%m/%d/%Y %p'):\n",
    "            try:\n",
    "                return datetime.strptime(date_string, fmt)\n",
    "            except ValueError:\n",
    "                pass\n",
    "        if 'MIDNIGHT' in date_string:\n",
    "            return datetime.strptime(date_string.replace('MIDNIGHT', '12:00 AM'), '%m/%d/%Y %I:%M %p')\n",
    "        elif 'NOON' in date_string:\n",
    "            return datetime.strptime(date_string.replace('NOON', '12:00 PM'), '%m/%d/%Y %I:%M %p')\n",
    "        raise ValueError(f\"Unable to parse date string: {date_string}\")\n",
    "    except Exception as e:\n",
    "        print(f\"Error parsing date: {date_string}. Error: {str(e)}\")\n",
    "        return None\n",
    "\n",
    "# Usage\n",
    "historical_launches_df['date'] = historical_launches_df['date'].apply(parse_launch_date)"
   ]
  },
  {
   "cell_type": "code",
   "execution_count": 5,
   "metadata": {},
   "outputs": [
    {
     "data": {
      "text/plain": [
       "Timestamp('2024-08-06 02:42:00')"
      ]
     },
     "execution_count": 5,
     "metadata": {},
     "output_type": "execute_result"
    }
   ],
   "source": [
    "historical_launches_df['date'].max()"
   ]
  },
  {
   "cell_type": "code",
   "execution_count": 6,
   "metadata": {},
   "outputs": [
    {
     "data": {
      "text/plain": [
       "2103"
      ]
     },
     "execution_count": 6,
     "metadata": {},
     "output_type": "execute_result"
    }
   ],
   "source": [
    "# Filter for rows where 'location' contains 'USA'\n",
    "usa_launches = historical_launches_df[historical_launches_df['location'].str.contains('USA', case=False, na=False)]\n",
    "len(usa_launches)"
   ]
  },
  {
   "cell_type": "code",
   "execution_count": 12,
   "metadata": {},
   "outputs": [
    {
     "data": {
      "text/html": [
       "<div>\n",
       "<style scoped>\n",
       "    .dataframe tbody tr th:only-of-type {\n",
       "        vertical-align: middle;\n",
       "    }\n",
       "\n",
       "    .dataframe tbody tr th {\n",
       "        vertical-align: top;\n",
       "    }\n",
       "\n",
       "    .dataframe thead th {\n",
       "        text-align: right;\n",
       "    }\n",
       "</style>\n",
       "<table border=\"1\" class=\"dataframe\">\n",
       "  <thead>\n",
       "    <tr style=\"text-align: right;\">\n",
       "      <th>status</th>\n",
       "      <th>Launch Failure</th>\n",
       "      <th>Launch Successful</th>\n",
       "      <th>Launch was a Partial Failure</th>\n",
       "      <th>Total</th>\n",
       "    </tr>\n",
       "    <tr>\n",
       "      <th>location</th>\n",
       "      <th></th>\n",
       "      <th></th>\n",
       "      <th></th>\n",
       "      <th></th>\n",
       "    </tr>\n",
       "  </thead>\n",
       "  <tbody>\n",
       "    <tr>\n",
       "      <th>Cape Canaveral, FL, USA</th>\n",
       "      <td>75</td>\n",
       "      <td>887</td>\n",
       "      <td>5</td>\n",
       "      <td>967</td>\n",
       "    </tr>\n",
       "    <tr>\n",
       "      <th>Vandenberg SFB, CA, USA</th>\n",
       "      <td>67</td>\n",
       "      <td>695</td>\n",
       "      <td>3</td>\n",
       "      <td>765</td>\n",
       "    </tr>\n",
       "    <tr>\n",
       "      <th>Kennedy Space Center, FL, USA</th>\n",
       "      <td>2</td>\n",
       "      <td>238</td>\n",
       "      <td>1</td>\n",
       "      <td>241</td>\n",
       "    </tr>\n",
       "    <tr>\n",
       "      <th>Wallops Island, Virginia, USA</th>\n",
       "      <td>7</td>\n",
       "      <td>68</td>\n",
       "      <td>3</td>\n",
       "      <td>78</td>\n",
       "    </tr>\n",
       "    <tr>\n",
       "      <th>Corn Ranch, Van Horn, TX, USA</th>\n",
       "      <td>1</td>\n",
       "      <td>24</td>\n",
       "      <td>0</td>\n",
       "      <td>25</td>\n",
       "    </tr>\n",
       "    <tr>\n",
       "      <th>SpaceX Starbase, TX, USA</th>\n",
       "      <td>2</td>\n",
       "      <td>8</td>\n",
       "      <td>3</td>\n",
       "      <td>13</td>\n",
       "    </tr>\n",
       "    <tr>\n",
       "      <th>Pacific Spaceport Complex, Alaska, USA</th>\n",
       "      <td>4</td>\n",
       "      <td>5</td>\n",
       "      <td>0</td>\n",
       "      <td>9</td>\n",
       "    </tr>\n",
       "    <tr>\n",
       "      <th>Spaceport America, NM, USA</th>\n",
       "      <td>1</td>\n",
       "      <td>0</td>\n",
       "      <td>3</td>\n",
       "      <td>4</td>\n",
       "    </tr>\n",
       "    <tr>\n",
       "      <th>Kauai, USA</th>\n",
       "      <td>1</td>\n",
       "      <td>0</td>\n",
       "      <td>0</td>\n",
       "      <td>1</td>\n",
       "    </tr>\n",
       "  </tbody>\n",
       "</table>\n",
       "</div>"
      ],
      "text/plain": [
       "status                                  Launch Failure  Launch Successful  \\\n",
       "location                                                                    \n",
       "Cape Canaveral, FL, USA                             75                887   \n",
       "Vandenberg SFB, CA, USA                             67                695   \n",
       "Kennedy Space Center, FL, USA                        2                238   \n",
       "Wallops Island, Virginia, USA                        7                 68   \n",
       "Corn Ranch, Van Horn, TX, USA                        1                 24   \n",
       "SpaceX Starbase, TX, USA                             2                  8   \n",
       "Pacific Spaceport Complex, Alaska, USA               4                  5   \n",
       "Spaceport America, NM, USA                           1                  0   \n",
       "Kauai, USA                                           1                  0   \n",
       "\n",
       "status                                  Launch was a Partial Failure  Total  \n",
       "location                                                                     \n",
       "Cape Canaveral, FL, USA                                            5    967  \n",
       "Vandenberg SFB, CA, USA                                            3    765  \n",
       "Kennedy Space Center, FL, USA                                      1    241  \n",
       "Wallops Island, Virginia, USA                                      3     78  \n",
       "Corn Ranch, Van Horn, TX, USA                                      0     25  \n",
       "SpaceX Starbase, TX, USA                                           3     13  \n",
       "Pacific Spaceport Complex, Alaska, USA                             0      9  \n",
       "Spaceport America, NM, USA                                         3      4  \n",
       "Kauai, USA                                                         0      1  "
      ]
     },
     "execution_count": 12,
     "metadata": {},
     "output_type": "execute_result"
    }
   ],
   "source": [
    "# Create a pivot table showing status per location\n",
    "status_per_location = usa_launches.pivot_table(\n",
    "    index='location',\n",
    "    columns='status',\n",
    "    aggfunc='size',\n",
    "    fill_value=0\n",
    ")\n",
    "\n",
    "# Calculate the total launches per location\n",
    "status_per_location['Total'] = status_per_location.sum(axis=1)\n",
    "\n",
    "# Sort the table by total launches in descending order\n",
    "status_per_location_sorted = status_per_location.sort_values('Total', ascending=False)\n",
    "\n",
    "# Display the table\n",
    "status_per_location_sorted"
   ]
  },
  {
   "cell_type": "markdown",
   "metadata": {},
   "source": [
    "```python\n",
    "spaceport_coordinates = [\n",
    "    (\"Cape Canaveral, FL, USA\", 28.4889, -80.5778),\n",
    "    (\"Vandenberg SFB, CA, USA\", 34.7420, -120.5724),\n",
    "    (\"Wallops Island, Virginia, USA\", 37.9401, -75.4664),\n",
    "    (\"Kennedy Space Center, FL, USA\", 28.5728, -80.6490),\n",
    "    (\"Pacific Spaceport Complex, Alaska, USA\", 57.4356, -152.3378),\n",
    "    (\"Corn Ranch, Van Horn, TX, USA\", 31.4233, -104.7587),\n",
    "    (\"Kauai, USA\", 22.0379, -159.7567),\n",
    "    (\"Spaceport America, NM, USA\", 32.9903, -106.9750),\n",
    "    (\"SpaceX Starbase, TX, USA\", 25.9971, -97.1554)\n",
    "]\n",
    "```"
   ]
  },
  {
   "cell_type": "code",
   "execution_count": null,
   "metadata": {},
   "outputs": [],
   "source": [
    "# usa_launches.to_csv('../data/transformed/launch/usa_launches.csv', index=False)"
   ]
  }
 ],
 "metadata": {
  "kernelspec": {
   "display_name": "venv",
   "language": "python",
   "name": "python3"
  },
  "language_info": {
   "codemirror_mode": {
    "name": "ipython",
    "version": 3
   },
   "file_extension": ".py",
   "mimetype": "text/x-python",
   "name": "python",
   "nbconvert_exporter": "python",
   "pygments_lexer": "ipython3",
   "version": "3.11.6"
  }
 },
 "nbformat": 4,
 "nbformat_minor": 2
}
